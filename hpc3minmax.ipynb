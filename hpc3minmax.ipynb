{
  "nbformat": 4,
  "nbformat_minor": 0,
  "metadata": {
    "colab": {
      "provenance": [],
      "gpuType": "T4"
    },
    "kernelspec": {
      "name": "python3",
      "display_name": "Python 3"
    },
    "language_info": {
      "name": "python"
    },
    "accelerator": "GPU"
  },
  "cells": [
    {
      "cell_type": "code",
      "execution_count": 1,
      "metadata": {
        "colab": {
          "base_uri": "https://localhost:8080/"
        },
        "id": "QRqRNbzOEe_n",
        "outputId": "5588c3c7-817d-4daf-dde5-d3222fc68bd6"
      },
      "outputs": [
        {
          "output_type": "stream",
          "name": "stdout",
          "text": [
            "Collecting git+https://github.com/afnan47/cuda.git\n",
            "  Cloning https://github.com/afnan47/cuda.git to /tmp/pip-req-build-x8ttj36s\n",
            "  Running command git clone --filter=blob:none --quiet https://github.com/afnan47/cuda.git /tmp/pip-req-build-x8ttj36s\n",
            "  Resolved https://github.com/afnan47/cuda.git to commit aac710a35f52bb78ab34d2e52517237941399eff\n",
            "  Preparing metadata (setup.py) ... \u001b[?25l\u001b[?25hdone\n",
            "Building wheels for collected packages: NVCCPlugin\n",
            "  Building wheel for NVCCPlugin (setup.py) ... \u001b[?25l\u001b[?25hdone\n",
            "  Created wheel for NVCCPlugin: filename=NVCCPlugin-0.0.2-py3-none-any.whl size=4289 sha256=2e335fe535b85f8470205fbc8db6dcd11a8c5f06dab758fe3786ee90d0177865\n",
            "  Stored in directory: /tmp/pip-ephem-wheel-cache-h1gsyrxm/wheels/aa/f3/44/e10c1d226ec561d971fcd4b0463f6bff08602afa928a3e7bc7\n",
            "Successfully built NVCCPlugin\n",
            "Installing collected packages: NVCCPlugin\n",
            "Successfully installed NVCCPlugin-0.0.2\n"
          ]
        }
      ],
      "source": [
        "!pip install git+https://github.com/afnan47/cuda.git"
      ]
    },
    {
      "cell_type": "code",
      "source": [
        "%load_ext nvcc_plugin"
      ],
      "metadata": {
        "colab": {
          "base_uri": "https://localhost:8080/"
        },
        "id": "8aQKNZFJEw4j",
        "outputId": "c7f3f7c3-85a1-4bf7-e678-373b8df6fa92"
      },
      "execution_count": 2,
      "outputs": [
        {
          "output_type": "stream",
          "name": "stdout",
          "text": [
            "created output directory at /content/src\n",
            "Out bin /content/result.out\n"
          ]
        }
      ]
    },
    {
      "cell_type": "code",
      "source": [
        "%%writefile ass3.cu\n",
        "\n",
        "#include <iostream>\n",
        "\n",
        "__global__ void minKernel(int *arr, int *minval, int n) {\n",
        "    int tid = threadIdx.x + blockIdx.x * blockDim.x;\n",
        "    if (tid < n) atomicMin(minval, arr[tid]);\n",
        "}\n",
        "\n",
        "__global__ void maxKernel(int *arr, int *maxval, int n) {\n",
        "    int tid = threadIdx.x + blockIdx.x * blockDim.x;\n",
        "    if (tid < n) atomicMax(maxval, arr[tid]);\n",
        "}\n",
        "\n",
        "__global__ void sumKernel(int *arr, int *sum, int n) {\n",
        "    int tid = threadIdx.x + blockIdx.x * blockDim.x;\n",
        "    if (tid < n) atomicAdd(sum, arr[tid]);\n",
        "}\n",
        "\n",
        "int minval(int arr[], int n) {\n",
        "    int *d_arr, *d_minval;\n",
        "    cudaMalloc(&d_arr, n * sizeof(int));\n",
        "    cudaMalloc(&d_minval, sizeof(int));\n",
        "    cudaMemcpy(d_arr, arr, n * sizeof(int), cudaMemcpyHostToDevice);\n",
        "    cudaMemcpy(d_minval, &arr[0], sizeof(int), cudaMemcpyHostToDevice);\n",
        "\n",
        "    minKernel<<<(n + 255) / 256, 256>>>(d_arr, d_minval, n);\n",
        "\n",
        "    int minval;\n",
        "    cudaMemcpy(&minval, d_minval, sizeof(int), cudaMemcpyDeviceToHost);\n",
        "\n",
        "    cudaFree(d_arr);\n",
        "    cudaFree(d_minval);\n",
        "\n",
        "    return minval;\n",
        "}\n",
        "\n",
        "int maxval(int arr[], int n) {\n",
        "    int *d_arr, *d_maxval;\n",
        "    cudaMalloc(&d_arr, n * sizeof(int));\n",
        "    cudaMalloc(&d_maxval, sizeof(int));\n",
        "    cudaMemcpy(d_arr, arr, n * sizeof(int), cudaMemcpyHostToDevice);\n",
        "    cudaMemcpy(d_maxval, &arr[0], sizeof(int), cudaMemcpyHostToDevice);\n",
        "\n",
        "    maxKernel<<<(n + 255) / 256, 256>>>(d_arr, d_maxval, n);\n",
        "\n",
        "    int maxval;\n",
        "    cudaMemcpy(&maxval, d_maxval, sizeof(int), cudaMemcpyDeviceToHost);\n",
        "\n",
        "    cudaFree(d_arr);\n",
        "    cudaFree(d_maxval);\n",
        "\n",
        "    return maxval;\n",
        "}\n",
        "\n",
        "int sum(int arr[], int n) {\n",
        "    int *d_arr, *d_sum;\n",
        "    cudaMalloc(&d_arr, n * sizeof(int));\n",
        "    cudaMalloc(&d_sum, sizeof(int));\n",
        "    cudaMemcpy(d_arr, arr, n * sizeof(int), cudaMemcpyHostToDevice);\n",
        "    cudaMemcpy(d_sum, &arr[0], sizeof(int), cudaMemcpyHostToDevice);\n",
        "\n",
        "    sumKernel<<<(n + 255) / 256, 256>>>(d_arr, d_sum, n);\n",
        "\n",
        "    int sum;\n",
        "    cudaMemcpy(&sum, d_sum, sizeof(int), cudaMemcpyDeviceToHost);\n",
        "\n",
        "    cudaFree(d_arr);\n",
        "    cudaFree(d_sum);\n",
        "\n",
        "    return sum;\n",
        "}\n",
        "\n",
        "int average(int arr[], int n) {\n",
        "    return (double)sum(arr, n) / n;\n",
        "}\n",
        "\n",
        "int main() {\n",
        "    int n = 5;\n",
        "    int arr[] = {1, 2, 3, 4, 5};\n",
        "\n",
        "    std::cout << \"The minimum value is: \" << minval(arr, n) << '\\n';\n",
        "    std::cout << \"The maximum value is: \" << maxval(arr, n) << '\\n';\n",
        "    std::cout << \"The summation is: \" << sum(arr, n) << '\\n';\n",
        "    std::cout << \"The average is: \" << average(arr, n) << '\\n';\n",
        "\n",
        "    return 0;\n",
        "}"
      ],
      "metadata": {
        "colab": {
          "base_uri": "https://localhost:8080/"
        },
        "id": "rNaWuZPBE86B",
        "outputId": "0f3a2dc1-26f0-4f37-9e7b-8b7b7e4625a6"
      },
      "execution_count": 3,
      "outputs": [
        {
          "output_type": "stream",
          "name": "stdout",
          "text": [
            "Writing ass3.cu\n"
          ]
        }
      ]
    },
    {
      "cell_type": "code",
      "source": [
        "!nvcc -o ass3 ass3.cu -Xcompiler -fopenmp\n",
        "!./ass3"
      ],
      "metadata": {
        "colab": {
          "base_uri": "https://localhost:8080/"
        },
        "id": "EqscOI0RFEUv",
        "outputId": "5dd5f0e6-822d-411b-e9b6-c9587f1052e2"
      },
      "execution_count": 4,
      "outputs": [
        {
          "output_type": "stream",
          "name": "stdout",
          "text": [
            "The minimum value is: 1\n",
            "The maximum value is: 5\n",
            "The summation is: 16\n",
            "The average is: 3\n"
          ]
        }
      ]
    },
    {
      "cell_type": "code",
      "source": [],
      "metadata": {
        "id": "T2k0xH5RFJP8"
      },
      "execution_count": null,
      "outputs": []
    }
  ]
}